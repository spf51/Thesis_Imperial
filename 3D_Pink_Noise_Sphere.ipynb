{
 "cells": [
  {
   "cell_type": "code",
   "execution_count": null,
   "id": "e3e91cf77f5c0aaf",
   "metadata": {
    "ExecuteTime": {
     "end_time": "2025-06-05T15:52:52.253646Z",
     "start_time": "2025-06-05T15:52:52.248711Z"
    }
   },
   "outputs": [],
   "source": [
    "import numpy as np\n",
    "import dolfinx\n",
    "from mpi4py import MPI\n",
    "from petsc4py import PETSc\n",
    "import ufl\n",
    "from dolfinx.mesh import create_rectangle, create_mesh\n",
    "from dolfinx.fem import Function, functionspace, Constant, form\n",
    "from dolfinx.fem.petsc import LinearProblem\n",
    "import matplotlib.pyplot as plt\n",
    "import gmsh\n",
    "from dolfinx.io import gmshio\n",
    "from mpi4py import MPI\n"
   ]
  },
  {
   "cell_type": "code",
   "execution_count": 27,
   "id": "initial_id",
   "metadata": {
    "ExecuteTime": {
     "end_time": "2025-05-30T21:33:29.098930Z",
     "start_time": "2025-05-30T21:33:26.446089Z"
    },
    "collapsed": true
   },
   "outputs": [],
   "source": [
    "\n",
    "\n",
    "gmsh.initialize()\n",
    "gmsh.option.setNumber(\"General.Terminal\", 0)\n",
    "\n",
    "\n",
    "mesh_size = 0.019\n",
    "\n",
    "gmsh.option.setNumber(\"Mesh.CharacteristicLengthMax\", mesh_size)\n",
    "gmsh.option.setNumber(\"Mesh.CharacteristicLengthMin\", mesh_size/2)\n",
    "\n",
    "def gmsh_sphere(model, name: str):\n",
    "    \"\"\"\n",
    "    Create a Gmsh model of a unit sphere and generate a surface mesh.\n",
    "    This function creates a sphere (as a volume), then extracts its boundary surfaces,\n",
    "    defines a physical group for them, and generates a 2D mesh.\n",
    "    \"\"\"\n",
    "    model.add(name)\n",
    "    model.setCurrent(name)\n",
    "\n",
    "    sphere = model.occ.addSphere(0, 0, 0, 1)\n",
    "    model.occ.synchronize()\n",
    "\n",
    "    boundaries = model.getBoundary([(3, sphere)], oriented=False)\n",
    "    boundary_tags = [b[1] for b in boundaries if b[0] == 2]\n",
    "\n",
    "    model.add_physical_group(2, boundary_tags)\n",
    "\n",
    "    model.mesh.generate(2)\n",
    "    return model\n",
    "\n",
    "\n",
    "model = gmsh.model()\n",
    "gmsh_sphere(model, \"SphereSurface\")\n",
    "\n",
    "mesh, cell_tags, facet_tags = gmshio.model_to_mesh(model, MPI.COMM_WORLD, 0)\n",
    "\n",
    "\n",
    "\n",
    "\n",
    "gmsh.finalize()"
   ]
  },
  {
   "cell_type": "markdown",
   "id": "13ced7514d43310a",
   "metadata": {},
   "source": [
    "Display Mesh to Check "
   ]
  },
  {
   "cell_type": "code",
   "execution_count": null,
   "id": "68aefbf5975bea7e",
   "metadata": {
    "ExecuteTime": {
     "end_time": "2025-05-30T21:33:31.060936Z",
     "start_time": "2025-05-30T21:33:30.764318Z"
    }
   },
   "outputs": [],
   "source": [
    "import pyvista\n",
    "from dolfinx.plot import vtk_mesh\n",
    "\n",
    "\n",
    "topology, cell_types, geometry= vtk_mesh(mesh, mesh.topology.dim)\n",
    "display_grid = pyvista.UnstructuredGrid(topology, cell_types, mesh.geometry.x)\n",
    "\n",
    "plotter = pyvista.Plotter()\n",
    "plotter.add_mesh(display_grid, show_edges=True)\n",
    "plotter.show()"
   ]
  },
  {
   "cell_type": "code",
   "execution_count": 30,
   "id": "1e1033ee6dc62453",
   "metadata": {
    "ExecuteTime": {
     "end_time": "2025-05-30T21:33:33.720554Z",
     "start_time": "2025-05-30T21:33:33.540362Z"
    }
   },
   "outputs": [],
   "source": [
    "\n",
    "import os\n",
    "import meshio\n",
    "out_dir = \"data\"\n",
    "os.makedirs(out_dir, exist_ok=True)\n",
    "out_filename = os.path.join(out_dir, \"sphere_surface_test_new.vtu\")\n",
    "display_grid.save(out_filename)"
   ]
  },
  {
   "cell_type": "code",
   "execution_count": null,
   "id": "5090c357a13b4066",
   "metadata": {
    "ExecuteTime": {
     "end_time": "2025-06-05T12:28:49.126681Z",
     "start_time": "2025-06-05T12:28:25.314118Z"
    }
   },
   "outputs": [],
   "source": [
    "\n",
    "\n",
    "gamma_s = 10.0\n",
    "r_s = 0.001\n",
    "dt = 1e-3\n",
    "T = 0.3\n",
    "num_time_steps = int(T / dt)\n",
    "\n",
    "\n",
    "\n",
    "\n",
    "V = functionspace(mesh, (\"CG\", 1))\n",
    "\n",
    "t = Constant(mesh, 0.0)\n",
    "\n",
    "\n",
    "phi_n = Function(V)\n",
    "\n",
    "phi_np1 = Function(V)\n",
    "\n",
    "phi_nm1 = Function(V)\n",
    "\n",
    "u_ref_dofs = np.zeros((num_time_steps, V.dofmap.index_map.size_local), dtype=np.float64)\n",
    "Qs_dofs = np.zeros((num_time_steps, V.dofmap.index_map.size_local), dtype=np.float64)\n",
    "t_star = np.linspace(0, T, num_time_steps)\n",
    "\n",
    "Q0 = 0.05\n",
    "alpha = 1.0\n",
    "Nf = 17\n",
    "Ns = 20\n",
    "v_const = 1.0\n",
    "\n",
    "freqs = np.arange(1, 85, 5)\n",
    "freqs = freqs[:Nf]\n",
    "\n",
    "rng = np.random.default_rng(42)\n",
    "r0_sources = rng.uniform(-1.0, 1.0, size=(Ns, 3))\n",
    "v_sources = rng.uniform(-1.0, 1.0, size=(Ns, 3))\n",
    "\n",
    "\n",
    "def phase_func(r, r0, vs, time):\n",
    "    r_s_of_t = r0 + vs * time\n",
    "    diff = r.T - r_s_of_t\n",
    "    dist = np.linalg.norm(diff, axis=1)\n",
    "    return dist / v_const\n",
    "\n",
    "def pink_noise_signal(x, time):\n",
    "    out = np.zeros(x.shape[1], dtype=np.float64)\n",
    "    for f in freqs:\n",
    "        f_term = f**(-alpha)\n",
    "        for s in range(Ns):\n",
    "            r0_s = r0_sources[s]\n",
    "            v_s = v_sources[s]\n",
    "            Pi_vals = phase_func(x, r0_s, v_s, time)\n",
    "            out += f_term * np.sin(2 * np.pi * f * (time + Pi_vals))\n",
    "    norm_factor = Q0 / (len(freqs) * Ns)\n",
    "    return norm_factor * out\n",
    "\n",
    "def Q_callable(x):\n",
    "    return pink_noise_signal(x, t.value)\n",
    "\n",
    "Q_function = Function(V)\n",
    "\n",
    "\n",
    "u_ufl = ufl.TrialFunction(V)\n",
    "\n",
    "v_ufl = ufl.TestFunction(V)\n",
    "\n",
    "A_form = (\n",
    "    (1 / (gamma_s**2 * dt**2) + 1/(gamma_s * dt) + 1) * ufl.inner(u_ufl, v_ufl)\n",
    "    + r_s**2 * ufl.dot(ufl.grad(u_ufl), ufl.grad(v_ufl))\n",
    ")*ufl.dx\n",
    "\n",
    "\n",
    "for n in range(num_time_steps):\n",
    "\n",
    "    t.value = (n + 1) * dt\n",
    "    Q_function.interpolate(lambda x: Q_callable(x))\n",
    "\n",
    "\n",
    "\n",
    "\n",
    "    L_form = (\n",
    "            (Q_function\n",
    "             + (2 / (gamma_s**2 * dt**2)) * phi_n\n",
    "            + (-1 / (gamma_s**2 * dt**2) + 1 /(gamma_s * dt))  * phi_nm1\n",
    "             ) * v_ufl\n",
    "        ) * ufl.dx\n",
    "    problem = LinearProblem(A_form, L_form)\n",
    "    phi_np1.x.array[:] = problem.solve().x.array\n",
    "\n",
    "    u_ref_dofs[n, :] = phi_np1.x.array\n",
    "    Qs_dofs[n, :] = Q_function.x.array\n",
    "\n",
    "    phi_nm1.x.array[:] = phi_n.x.array\n",
    "    phi_n.x.array[:] = phi_np1.x.array\n",
    "\n",
    "    if n % 100 == 0:\n",
    "        print(f\"Step {n}, t={t.value:.3f}, max(phi)={phi_np1.x.array.max()}, min(phi)={phi_np1.x.array.min()}\")\n",
    "\n",
    "coords_3d = mesh.geometry.x\n",
    "coords_2d = coords_3d[:, :2]\n",
    "\n"
   ]
  },
  {
   "cell_type": "code",
   "execution_count": 32,
   "id": "c748289d6dc2489d",
   "metadata": {
    "ExecuteTime": {
     "end_time": "2025-05-30T22:17:07.518426Z",
     "start_time": "2025-05-30T22:17:07.271073Z"
    }
   },
   "outputs": [],
   "source": [
    "output_path = \"delta_pinss_test_new_big.npy\"\n",
    "\n",
    "data_dict = {\n",
    "    \"mesh_coordinates\": coords_3d,\n",
    "    \"t_star\": t_star,\n",
    "    \"phi_e\": u_ref_dofs,\n",
    "    \"Qs\": Qs_dofs\n",
    "}\n",
    "\n",
    "np.save(output_path, data_dict, allow_pickle=True)"
   ]
  },
  {
   "cell_type": "code",
   "execution_count": null,
   "id": "7f0f455a20d766f7",
   "metadata": {
    "ExecuteTime": {
     "end_time": "2025-05-30T22:17:14.598277Z",
     "start_time": "2025-05-30T22:17:13.657159Z"
    }
   },
   "outputs": [],
   "source": [
    "\n",
    "\n",
    "coords = mesh.geometry.x\n",
    "phi_vals = phi_np1.x.array\n",
    "\n",
    "\n",
    "fig = plt.figure()\n",
    "ax = fig.add_subplot(111, projection='3d')\n",
    "sc = ax.scatter(coords[:, 0], coords[:, 1], coords[:, 2],\n",
    "                c=phi_vals, cmap='viridis', s=20)\n",
    "ax.set_xlabel('x')\n",
    "ax.set_ylabel('y')\n",
    "ax.set_zlabel('z')\n",
    "ax.set_title('Solution phi on the Unit Sphere')\n",
    "fig.colorbar(sc, ax=ax, label='phi')\n",
    "plt.show()\n"
   ]
  },
  {
   "cell_type": "code",
   "execution_count": null,
   "id": "c83000c6d421cb75",
   "metadata": {
    "ExecuteTime": {
     "end_time": "2025-06-05T14:05:58.669437Z",
     "start_time": "2025-06-05T14:05:58.667279Z"
    }
   },
   "outputs": [],
   "source": []
  },
  {
   "cell_type": "code",
   "execution_count": null,
   "id": "add3b00b82c4f04b",
   "metadata": {},
   "outputs": [],
   "source": []
  }
 ],
 "metadata": {
  "kernelspec": {
   "display_name": "Python 3",
   "language": "python",
   "name": "python3"
  },
  "language_info": {
   "codemirror_mode": {
    "name": "ipython",
    "version": 2
   },
   "file_extension": ".py",
   "mimetype": "text/x-python",
   "name": "python",
   "nbconvert_exporter": "python",
   "pygments_lexer": "ipython2",
   "version": "2.7.6"
  }
 },
 "nbformat": 4,
 "nbformat_minor": 5
}
