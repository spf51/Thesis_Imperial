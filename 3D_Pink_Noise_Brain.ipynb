{
 "cells": [
  {
   "cell_type": "code",
   "execution_count": null,
   "id": "initial_id",
   "metadata": {
    "ExecuteTime": {
     "end_time": "2025-06-05T15:49:14.028224Z",
     "start_time": "2025-06-05T15:49:12.626136Z"
    },
    "collapsed": true
   },
   "outputs": [],
   "source": [
    "import numpy as np\n",
    "import dolfinx\n",
    "from mpi4py import MPI\n",
    "from petsc4py import PETSc\n",
    "import ufl\n",
    "from dolfinx.mesh import create_rectangle, create_mesh\n",
    "from dolfinx.fem import Function, functionspace, Constant, form\n",
    "from dolfinx.fem.petsc import LinearProblem\n",
    "import matplotlib.pyplot as plt\n",
    "import numpy as np\n",
    "import nibabel as nib\n",
    "import pyvista as pv\n",
    "\n",
    "from mpi4py import MPI\n",
    "\n",
    "gii = nib.load(\"data/fsaverage.L.inflated.164k_fs_LR.surf.gii\")\n",
    "\n",
    "coords = None\n",
    "tris   = None\n",
    "for arr in gii.darrays:\n",
    "    if arr.intent == 1008:\n",
    "        coords = arr.data.copy()\n",
    "    elif arr.intent == 1009:\n",
    "        tris = arr.data.copy().astype(np.int64)\n",
    "\n",
    "if coords is None or tris is None:\n",
    "    raise RuntimeError(\"Missing POINTSET or TRIANGLE data in GIFTI.\")\n",
    "\n",
    "coords = coords.astype(np.float64)\n",
    "tris   = tris.astype(np.int64)\n",
    "\n",
    "from basix.ufl import element as BasixElement\n",
    "\n",
    "domain = BasixElement(\"Lagrange\", \"triangle\", 1, shape=(3,))\n",
    "\n",
    "from dolfinx.mesh import create_mesh\n",
    "\n",
    "mesh = create_mesh(MPI.COMM_WORLD, tris, coords, domain)\n",
    "print(f\"Loaded mesh with {mesh.geometry.x.shape[0]} vertices and {len(tris)} triangles.\")"
   ]
  },
  {
   "cell_type": "code",
   "execution_count": null,
   "id": "68aefbf5975bea7e",
   "metadata": {
    "ExecuteTime": {
     "end_time": "2025-06-05T15:49:02.348720Z",
     "start_time": "2025-06-05T15:49:02.145177Z"
    }
   },
   "outputs": [],
   "source": [
    "new_coords = mesh.geometry.x.copy()\n",
    "face_connectivity = mesh.topology.connectivity(2, 0).array.reshape(-1, 3)\n",
    "\n",
    "n_faces = tris.shape[0]\n",
    "faces = np.hstack([np.full((n_faces, 1), 3, dtype=np.int64), tris]).reshape(-1)\n",
    "pv_mesh_original = pv.PolyData(coords, faces)\n",
    "\n",
    "n_faces_new = face_connectivity.shape[0]\n",
    "faces_new = np.hstack([np.full((n_faces_new, 1), 3, dtype=np.int64), face_connectivity]).reshape(-1)\n",
    "pv_mesh_new = pv.PolyData(new_coords, faces_new)\n",
    "\n",
    "plotter = pv.Plotter(shape=(1, 2), window_size=(1200, 600))\n",
    "plotter.subplot(0, 0)\n",
    "plotter.add_text(\"Original PV Mesh\", font_size=12)\n",
    "plotter.add_mesh(pv_mesh_original, color=\"lightgray\", style=\"wireframe\", line_width=0.5)\n",
    "plotter.reset_camera()\n",
    "\n",
    "plotter.subplot(0, 1)\n",
    "plotter.add_text(\"DOLFINx-derived Mesh\", font_size=12)\n",
    "plotter.add_mesh(pv_mesh_new, color=\"lightgray\", style=\"wireframe\", line_width=0.5)\n",
    "plotter.reset_camera()\n",
    "\n",
    "plotter.show()"
   ]
  },
  {
   "cell_type": "code",
   "execution_count": null,
   "id": "5090c357a13b4066",
   "metadata": {
    "ExecuteTime": {
     "end_time": "2025-06-05T15:58:28.155241Z",
     "start_time": "2025-06-05T15:49:17.745990Z"
    }
   },
   "outputs": [],
   "source": [
    "\n",
    "\n",
    "gamma_s = 116\n",
    "r_s = 30\n",
    "dt = 10e-5\n",
    "T = 0.01\n",
    "num_time_steps = int(T / dt)\n",
    "\n",
    "\n",
    "V = functionspace(mesh, (\"CG\", 1))\n",
    "\n",
    "t = Constant(mesh, 0.0)\n",
    "\n",
    "\n",
    "phi_n = Function(V)\n",
    "phi_np1 = Function(V)\n",
    "phi_nm1 = Function(V)\n",
    "u_ref_dofs = np.zeros((num_time_steps, V.dofmap.index_map.size_local), dtype=np.float64)\n",
    "Qs_dofs = np.zeros((num_time_steps, V.dofmap.index_map.size_local), dtype=np.float64)\n",
    "t_star = np.linspace(0, T, num_time_steps)\n",
    "\n",
    "Q0 = 0.05\n",
    "alpha = 1.0\n",
    "Nf = 17\n",
    "Ns = 20\n",
    "v_const = 1.0\n",
    "\n",
    "freqs = np.arange(1, 85, 5)\n",
    "freqs = freqs[:Nf]\n",
    "rng = np.random.default_rng(42)\n",
    "r0_sources = rng.uniform(-1.0, 1.0, size=(Ns, 3))\n",
    "v_sources = rng.uniform(-1.0, 1.0, size=(Ns, 3))\n",
    "\n",
    "def phase_func(r, r0, vs, time):\n",
    "    r_s_of_t = r0 + vs * time\n",
    "    diff = r.T - r_s_of_t\n",
    "    dist = np.linalg.norm(diff, axis=1)\n",
    "    return dist / v_const\n",
    "\n",
    "def pink_noise_signal(x, time):\n",
    "    out = np.zeros(x.shape[1], dtype=np.float64)\n",
    "    for f in freqs:\n",
    "        f_term = f**(-alpha)\n",
    "        for s in range(Ns):\n",
    "            r0_s = r0_sources[s]\n",
    "            v_s = v_sources[s]\n",
    "            Pi_vals = phase_func(x, r0_s, v_s, time)\n",
    "            out += f_term * np.sin(2 * np.pi * f * (time + Pi_vals))\n",
    "    norm_factor = Q0 / (len(freqs) * Ns)\n",
    "    return norm_factor * out\n",
    "\n",
    "def Q_callable(x):\n",
    "    return pink_noise_signal(x, t.value)\n",
    "\n",
    "Q_function = Function(V)\n",
    "\n",
    "\n",
    "u_ufl = ufl.TrialFunction(V)\n",
    "\n",
    "v_ufl = ufl.TestFunction(V)\n",
    "\n",
    "A_form = (\n",
    "    (1 / (gamma_s**2 * dt**2) + 1/(gamma_s * dt) + 1) * ufl.inner(u_ufl, v_ufl)\n",
    "    + r_s**2 * ufl.dot(ufl.grad(u_ufl), ufl.grad(v_ufl))\n",
    ")*ufl.dx\n",
    "\n",
    "t.value = 0.0\n",
    "Q_function.interpolate(lambda x: pink_noise_signal(x, t.value))\n",
    "phi_n.x.array[:]   = Q_function.x.array\n",
    "phi_nm1.x.array[:] = Q_function.x.array\n",
    "\n",
    "for n in range(num_time_steps):\n",
    "\n",
    "    t.value = (n + 1) * dt\n",
    "    Q_function.interpolate(lambda x: pink_noise_signal(x, t.value))\n",
    "\n",
    "\n",
    "\n",
    "\n",
    "    L_form = (\n",
    "            (Q_function\n",
    "             + (2 / (gamma_s**2 * dt**2)) * phi_n\n",
    "            + (-1 / (gamma_s**2 * dt**2) + 1 /(gamma_s * dt))  * phi_nm1\n",
    "             ) * v_ufl\n",
    "        ) * ufl.dx\n",
    "    problem = LinearProblem(A_form, L_form)\n",
    "    phi_np1.x.array[:] = problem.solve().x.array\n",
    "\n",
    "    u_ref_dofs[n, :] = phi_np1.x.array\n",
    "    Qs_dofs[n, :] = Q_function.x.array\n",
    "\n",
    "    phi_nm1.x.array[:] = phi_n.x.array\n",
    "    phi_n.x.array[:] = phi_np1.x.array\n",
    "\n",
    "    if n % 100 == 0:\n",
    "        print(f\"Step {n}, t={t.value:.3f}, max(phi)={phi_np1.x.array.max()}, min(phi)={phi_np1.x.array.min()}\")\n",
    "\n",
    "coords_3d = mesh.geometry.x\n",
    "coords_2d = coords_3d[:, :2]\n",
    "\n"
   ]
  },
  {
   "cell_type": "code",
   "execution_count": null,
   "id": "d266a6e9055b7e19",
   "metadata": {
    "ExecuteTime": {
     "end_time": "2025-06-05T13:58:37.655420Z",
     "start_time": "2025-06-05T13:58:37.647076Z"
    }
   },
   "outputs": [],
   "source": []
  },
  {
   "cell_type": "code",
   "execution_count": 3,
   "id": "c748289d6dc2489d",
   "metadata": {
    "ExecuteTime": {
     "end_time": "2025-06-05T15:59:05.254604Z",
     "start_time": "2025-06-05T15:59:05.010864Z"
    }
   },
   "outputs": [],
   "source": [
    "coords_3d = mesh.geometry.x\n",
    "tris      = mesh.topology.connectivity(2, 0).array.reshape(-1, 3)\n",
    "\n",
    "data_dict = {\n",
    "    \"mesh_coordinates\": coords_3d,\n",
    "    \"connectivity\":      tris,\n",
    "    \"t_star\":            t_star,\n",
    "    \"phi_e\":             u_ref_dofs,\n",
    "    \"Qs\":                Qs_dofs\n",
    "}\n",
    "\n",
    "output_path = \"NN_data/Reference Solution on Left Hemisphere: t=0.01s - 164k Mesh,dt=10e5.npy\"\n",
    "np.save(output_path, data_dict, allow_pickle=True)"
   ]
  },
  {
   "cell_type": "code",
   "execution_count": null,
   "id": "2fbd59e61204440",
   "metadata": {
    "ExecuteTime": {
     "end_time": "2025-03-27T15:45:24.450503Z",
     "start_time": "2025-03-27T15:45:24.444469Z"
    }
   },
   "outputs": [],
   "source": [
    "coords_3d"
   ]
  },
  {
   "cell_type": "code",
   "execution_count": null,
   "id": "e154c322f153921",
   "metadata": {
    "ExecuteTime": {
     "end_time": "2025-06-05T16:00:48.195922Z",
     "start_time": "2025-06-05T16:00:48.013058Z"
    }
   },
   "outputs": [],
   "source": [
    "\n",
    "\n",
    "coords = mesh.geometry.x.copy()\n",
    "tris = mesh.topology.connectivity(2, 0).array.reshape(-1, 3)\n",
    "faces = np.hstack([np.full((tris.shape[0], 1), 3, dtype=np.int64), tris]).reshape(-1)\n",
    "pv_mesh = pv.PolyData(coords, faces)\n",
    "pv_mesh[\"phi\"] = phi_np1.x.array\n",
    "\n",
    "\n",
    "p = pv.Plotter(window_size=(1000, 600))\n",
    "p.add_mesh(pv_mesh, scalars=\"phi\", cmap=\"viridis\", show_edges=False, show_scalar_bar=False)\n",
    "\n",
    "\n",
    "p.hide_axes()\n",
    "\n",
    "\n",
    "p.add_scalar_bar(\n",
    "    title=\"Phi Values\",\n",
    "    vertical=True,\n",
    "    position_x=0.75,\n",
    "    position_y=0.05,\n",
    "    height=0.80,\n",
    "    width=0.08,\n",
    "    title_font_size=14,\n",
    "    label_font_size=12,\n",
    "    bold=True,\n",
    "    above_label = '       '\n",
    ")\n",
    "p.add_text(\"Reference Solution on Left Hemisphere: t=0.01s - 164k Mesh dt=10e5\",\n",
    "            position=\"upper_edge\",\n",
    "            font_size=10,\n",
    "            color=\"black\")\n",
    "\n",
    "p.show()"
   ]
  },
  {
   "cell_type": "code",
   "execution_count": null,
   "id": "873ef90b15564e92",
   "metadata": {
    "ExecuteTime": {
     "end_time": "2025-06-05T13:37:48.118758Z",
     "start_time": "2025-06-05T13:37:48.114456Z"
    }
   },
   "outputs": [],
   "source": []
  },
  {
   "cell_type": "code",
   "execution_count": null,
   "id": "412d0366003a6ddc",
   "metadata": {
    "ExecuteTime": {
     "end_time": "2025-06-05T13:45:56.919790Z",
     "start_time": "2025-06-05T13:45:56.916540Z"
    }
   },
   "outputs": [],
   "source": []
  },
  {
   "cell_type": "code",
   "execution_count": null,
   "id": "893f9c2ae487d750",
   "metadata": {
    "ExecuteTime": {
     "end_time": "2025-05-16T15:46:10.229452Z",
     "start_time": "2025-05-16T15:46:10.226498Z"
    }
   },
   "outputs": [],
   "source": [
    " phi.x.array.shape"
   ]
  },
  {
   "cell_type": "code",
   "execution_count": null,
   "id": "c83000c6d421cb75",
   "metadata": {},
   "outputs": [],
   "source": []
  }
 ],
 "metadata": {
  "kernelspec": {
   "display_name": "Python 3",
   "language": "python",
   "name": "python3"
  },
  "language_info": {
   "codemirror_mode": {
    "name": "ipython",
    "version": 2
   },
   "file_extension": ".py",
   "mimetype": "text/x-python",
   "name": "python",
   "nbconvert_exporter": "python",
   "pygments_lexer": "ipython2",
   "version": "2.7.6"
  }
 },
 "nbformat": 4,
 "nbformat_minor": 5
}
